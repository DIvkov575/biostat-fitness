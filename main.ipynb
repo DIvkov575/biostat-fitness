{
 "cells": [
  {
   "metadata": {
    "ExecuteTime": {
     "end_time": "2025-08-31T15:50:13.615791Z",
     "start_time": "2025-08-31T15:50:07.399651Z"
    }
   },
   "cell_type": "code",
   "source": [
    "import pandas as pd\n",
    "import numpy as np\n",
    "from Bio import AlignIO\n",
    "from sklearn.model_selection import train_test_split\n",
    "from sklearn.preprocessing import OneHotEncoder\n",
    "from sklearn.gaussian_process import GaussianProcessClassifier\n",
    "from sklearn.gaussian_process.kernels import RBF\n"
   ],
   "id": "fd81645598844cf6",
   "outputs": [],
   "execution_count": 10
  },
  {
   "metadata": {
    "ExecuteTime": {
     "end_time": "2025-08-31T16:36:53.441331Z",
     "start_time": "2025-08-31T16:36:52.533433Z"
    }
   },
   "cell_type": "code",
   "source": [
    "# # Read entire file into a single string\n",
    "# with open(\"data/alignments/BG_STRSQ.a2m\", \"r\", encoding=\"utf-8\") as f:\n",
    "#     content = f.read()\n",
    "#     content = list(set(list(content)))\n",
    "#     content = list(set([x.lower() for x in content if (x.isalpha() or x==\"-\")]))\n",
    "#     print(len(content))\n",
    "#     print(content)\n",
    "#     # print(set(output))\n",
    "\n",
    "# dictionary = set()\n",
    "# for sequence in sequences:\n",
    "#     for elem in sequence:\n",
    "#         dictionary.add(elem.upper())\n",
    "\n",
    "\n"
   ],
   "id": "93dc658f5ac8d5a1",
   "outputs": [],
   "execution_count": 36
  },
  {
   "metadata": {
    "ExecuteTime": {
     "end_time": "2025-08-31T16:37:05.137252Z",
     "start_time": "2025-08-31T16:37:05.134354Z"
    }
   },
   "cell_type": "code",
   "source": [
    "print(len(dictionary))\n",
    "print(dictionary)"
   ],
   "id": "50aca861271dc00d",
   "outputs": [
    {
     "name": "stdout",
     "output_type": "stream",
     "text": [
      "25\n",
      "{'-', 'E', 'H', 'P', 'M', '.', 'N', 'D', 'L', 'Y', 'A', 'I', 'Q', 'V', 'X', 'B', 'Z', 'F', 'C', 'R', 'G', 'K', 'W', 'S', 'T'}\n"
     ]
    }
   ],
   "execution_count": 39
  },
  {
   "metadata": {
    "ExecuteTime": {
     "end_time": "2025-09-01T00:36:32.993241Z",
     "start_time": "2025-09-01T00:36:32.863613Z"
    }
   },
   "cell_type": "code",
   "source": [
    "a2m_file = \"data/alignments/BG_STRSQ.a2m\"   # path to your A2M file\n",
    "window_size = 5            # context window size\n",
    "test_size = 0.2            # fraction for test set\n",
    "alphabet = list(\"ACDEFGHIKLMNPQRSTVWY-\")  # 20 amino acids + gap\n",
    "\n",
    "alignment = AlignIO.read(a2m_file, \"fasta\")  # \"a2m\" behaves like fasta\n",
    "sequences = [str(record.seq) for record in alignment]\n",
    "print(f\"Loaded {len(sequences)} sequences from {a2m_file}\")"
   ],
   "id": "fe462aabf1444197",
   "outputs": [
    {
     "name": "stdout",
     "output_type": "stream",
     "text": [
      "Loaded 28048 sequences from data/alignments/BG_STRSQ.a2m\n"
     ]
    }
   ],
   "execution_count": 41
  },
  {
   "metadata": {
    "ExecuteTime": {
     "end_time": "2025-08-31T16:34:01.311978Z",
     "start_time": "2025-08-31T16:33:37.983057Z"
    }
   },
   "cell_type": "code",
   "source": [
    "# Build context-target pairs\n",
    "\n",
    "X_raw, y_raw = [], []\n",
    "for seq in sequences:\n",
    "    for i in range(len(seq) - window_size):\n",
    "        context = list(seq[i : i + window_size])\n",
    "        target = seq[i + window_size]\n",
    "        if any(c not in alphabet for c in context + [target]):\n",
    "            continue\n",
    "        X_raw.append(context)\n",
    "        y_raw.append(target)\n",
    "\n",
    "print(f\"Built {len(X_raw)} training examples (window={window_size})\")\n"
   ],
   "id": "ea02c8120c7168ad",
   "outputs": [
    {
     "name": "stdout",
     "output_type": "stream",
     "text": [
      "Built 11665223 training examples (window=5)\n"
     ]
    }
   ],
   "execution_count": 29
  },
  {
   "metadata": {
    "ExecuteTime": {
     "end_time": "2025-08-31T16:34:33.311797Z",
     "start_time": "2025-08-31T16:34:01.315851Z"
    }
   },
   "cell_type": "code",
   "source": [
    "enc = OneHotEncoder(sparse_output=False, categories=[alphabet] * window_size)\n",
    "X = enc.fit_transform(np.array(X_raw))\n",
    "\n",
    "label_to_int = {c: i for i, c in enumerate(alphabet)}\n",
    "y = np.array([label_to_int[c] for c in y_raw])"
   ],
   "id": "c67bbe62519c3c31",
   "outputs": [],
   "execution_count": 30
  },
  {
   "metadata": {
    "ExecuteTime": {
     "end_time": "2025-08-31T16:34:54.916397Z",
     "start_time": "2025-08-31T16:34:33.330514Z"
    }
   },
   "cell_type": "code",
   "source": [
    "X_train, X_test, y_train, y_test, X_raw_train, X_raw_test = train_test_split(\n",
    "    X, y, X_raw, test_size=test_size, random_state=42, stratify=y\n",
    ")"
   ],
   "id": "b751324a69b4d848",
   "outputs": [],
   "execution_count": 31
  },
  {
   "metadata": {
    "ExecuteTime": {
     "end_time": "2025-08-31T16:52:59.012080Z",
     "start_time": "2025-08-31T16:52:53.288808Z"
    }
   },
   "cell_type": "code",
   "source": [
    "kernel = 1.0 * RBF(length_scale=2.0)\n",
    "gpc = GaussianProcessClassifier(kernel=kernel, random_state=42, max_iter_predict=200)\n",
    "print(\"Fitting Gaussian Process Classifier...\")\n",
    "gpc.fit(X_train, y_train)"
   ],
   "id": "ac9f9215879b6401",
   "outputs": [
    {
     "name": "stdout",
     "output_type": "stream",
     "text": [
      "Fitting Gaussian Process Classifier...\n"
     ]
    },
    {
     "ename": "MemoryError",
     "evalue": "Unable to allocate 634. TiB for an array with shape (9332178, 9332178) and data type float64",
     "output_type": "error",
     "traceback": [
      "\u001B[31m---------------------------------------------------------------------------\u001B[39m",
      "\u001B[31mMemoryError\u001B[39m                               Traceback (most recent call last)",
      "\u001B[36mCell\u001B[39m\u001B[36m \u001B[39m\u001B[32mIn[40]\u001B[39m\u001B[32m, line 4\u001B[39m\n\u001B[32m      2\u001B[39m gpc = GaussianProcessClassifier(kernel=kernel, random_state=\u001B[32m42\u001B[39m, max_iter_predict=\u001B[32m200\u001B[39m)\n\u001B[32m      3\u001B[39m \u001B[38;5;28mprint\u001B[39m(\u001B[33m\"\u001B[39m\u001B[33mFitting Gaussian Process Classifier...\u001B[39m\u001B[33m\"\u001B[39m)\n\u001B[32m----> \u001B[39m\u001B[32m4\u001B[39m \u001B[43mgpc\u001B[49m\u001B[43m.\u001B[49m\u001B[43mfit\u001B[49m\u001B[43m(\u001B[49m\u001B[43mX_train\u001B[49m\u001B[43m,\u001B[49m\u001B[43m \u001B[49m\u001B[43my_train\u001B[49m\u001B[43m)\u001B[49m\n",
      "\u001B[36mFile \u001B[39m\u001B[32m/opt/homebrew/Caskroom/miniconda/base/envs/biostat-fitness/lib/python3.13/site-packages/sklearn/base.py:1365\u001B[39m, in \u001B[36m_fit_context.<locals>.decorator.<locals>.wrapper\u001B[39m\u001B[34m(estimator, *args, **kwargs)\u001B[39m\n\u001B[32m   1358\u001B[39m     estimator._validate_params()\n\u001B[32m   1360\u001B[39m \u001B[38;5;28;01mwith\u001B[39;00m config_context(\n\u001B[32m   1361\u001B[39m     skip_parameter_validation=(\n\u001B[32m   1362\u001B[39m         prefer_skip_nested_validation \u001B[38;5;129;01mor\u001B[39;00m global_skip_validation\n\u001B[32m   1363\u001B[39m     )\n\u001B[32m   1364\u001B[39m ):\n\u001B[32m-> \u001B[39m\u001B[32m1365\u001B[39m     \u001B[38;5;28;01mreturn\u001B[39;00m \u001B[43mfit_method\u001B[49m\u001B[43m(\u001B[49m\u001B[43mestimator\u001B[49m\u001B[43m,\u001B[49m\u001B[43m \u001B[49m\u001B[43m*\u001B[49m\u001B[43margs\u001B[49m\u001B[43m,\u001B[49m\u001B[43m \u001B[49m\u001B[43m*\u001B[49m\u001B[43m*\u001B[49m\u001B[43mkwargs\u001B[49m\u001B[43m)\u001B[49m\n",
      "\u001B[36mFile \u001B[39m\u001B[32m/opt/homebrew/Caskroom/miniconda/base/envs/biostat-fitness/lib/python3.13/site-packages/sklearn/gaussian_process/_gpc.py:773\u001B[39m, in \u001B[36mGaussianProcessClassifier.fit\u001B[39m\u001B[34m(self, X, y)\u001B[39m\n\u001B[32m    770\u001B[39m     \u001B[38;5;28;01melse\u001B[39;00m:\n\u001B[32m    771\u001B[39m         \u001B[38;5;28;01mraise\u001B[39;00m \u001B[38;5;167;01mValueError\u001B[39;00m(\u001B[33m\"\u001B[39m\u001B[33mUnknown multi-class mode \u001B[39m\u001B[38;5;132;01m%s\u001B[39;00m\u001B[33m\"\u001B[39m % \u001B[38;5;28mself\u001B[39m.multi_class)\n\u001B[32m--> \u001B[39m\u001B[32m773\u001B[39m \u001B[38;5;28;43mself\u001B[39;49m\u001B[43m.\u001B[49m\u001B[43mbase_estimator_\u001B[49m\u001B[43m.\u001B[49m\u001B[43mfit\u001B[49m\u001B[43m(\u001B[49m\u001B[43mX\u001B[49m\u001B[43m,\u001B[49m\u001B[43m \u001B[49m\u001B[43my\u001B[49m\u001B[43m)\u001B[49m\n\u001B[32m    775\u001B[39m \u001B[38;5;28;01mif\u001B[39;00m \u001B[38;5;28mself\u001B[39m.n_classes_ > \u001B[32m2\u001B[39m:\n\u001B[32m    776\u001B[39m     \u001B[38;5;28mself\u001B[39m.log_marginal_likelihood_value_ = np.mean(\n\u001B[32m    777\u001B[39m         [\n\u001B[32m    778\u001B[39m             estimator.log_marginal_likelihood()\n\u001B[32m    779\u001B[39m             \u001B[38;5;28;01mfor\u001B[39;00m estimator \u001B[38;5;129;01min\u001B[39;00m \u001B[38;5;28mself\u001B[39m.base_estimator_.estimators_\n\u001B[32m    780\u001B[39m         ]\n\u001B[32m    781\u001B[39m     )\n",
      "\u001B[36mFile \u001B[39m\u001B[32m/opt/homebrew/Caskroom/miniconda/base/envs/biostat-fitness/lib/python3.13/site-packages/sklearn/base.py:1365\u001B[39m, in \u001B[36m_fit_context.<locals>.decorator.<locals>.wrapper\u001B[39m\u001B[34m(estimator, *args, **kwargs)\u001B[39m\n\u001B[32m   1358\u001B[39m     estimator._validate_params()\n\u001B[32m   1360\u001B[39m \u001B[38;5;28;01mwith\u001B[39;00m config_context(\n\u001B[32m   1361\u001B[39m     skip_parameter_validation=(\n\u001B[32m   1362\u001B[39m         prefer_skip_nested_validation \u001B[38;5;129;01mor\u001B[39;00m global_skip_validation\n\u001B[32m   1363\u001B[39m     )\n\u001B[32m   1364\u001B[39m ):\n\u001B[32m-> \u001B[39m\u001B[32m1365\u001B[39m     \u001B[38;5;28;01mreturn\u001B[39;00m \u001B[43mfit_method\u001B[49m\u001B[43m(\u001B[49m\u001B[43mestimator\u001B[49m\u001B[43m,\u001B[49m\u001B[43m \u001B[49m\u001B[43m*\u001B[49m\u001B[43margs\u001B[49m\u001B[43m,\u001B[49m\u001B[43m \u001B[49m\u001B[43m*\u001B[49m\u001B[43m*\u001B[49m\u001B[43mkwargs\u001B[49m\u001B[43m)\u001B[49m\n",
      "\u001B[36mFile \u001B[39m\u001B[32m/opt/homebrew/Caskroom/miniconda/base/envs/biostat-fitness/lib/python3.13/site-packages/sklearn/multiclass.py:376\u001B[39m, in \u001B[36mOneVsRestClassifier.fit\u001B[39m\u001B[34m(self, X, y, **fit_params)\u001B[39m\n\u001B[32m    372\u001B[39m columns = (col.toarray().ravel() \u001B[38;5;28;01mfor\u001B[39;00m col \u001B[38;5;129;01min\u001B[39;00m Y.T)\n\u001B[32m    373\u001B[39m \u001B[38;5;66;03m# In cases where individual estimators are very fast to train setting\u001B[39;00m\n\u001B[32m    374\u001B[39m \u001B[38;5;66;03m# n_jobs > 1 in can results in slower performance due to the overhead\u001B[39;00m\n\u001B[32m    375\u001B[39m \u001B[38;5;66;03m# of spawning threads.  See joblib issue #112.\u001B[39;00m\n\u001B[32m--> \u001B[39m\u001B[32m376\u001B[39m \u001B[38;5;28mself\u001B[39m.estimators_ = \u001B[43mParallel\u001B[49m\u001B[43m(\u001B[49m\u001B[43mn_jobs\u001B[49m\u001B[43m=\u001B[49m\u001B[38;5;28;43mself\u001B[39;49m\u001B[43m.\u001B[49m\u001B[43mn_jobs\u001B[49m\u001B[43m,\u001B[49m\u001B[43m \u001B[49m\u001B[43mverbose\u001B[49m\u001B[43m=\u001B[49m\u001B[38;5;28;43mself\u001B[39;49m\u001B[43m.\u001B[49m\u001B[43mverbose\u001B[49m\u001B[43m)\u001B[49m\u001B[43m(\u001B[49m\n\u001B[32m    377\u001B[39m \u001B[43m    \u001B[49m\u001B[43mdelayed\u001B[49m\u001B[43m(\u001B[49m\u001B[43m_fit_binary\u001B[49m\u001B[43m)\u001B[49m\u001B[43m(\u001B[49m\n\u001B[32m    378\u001B[39m \u001B[43m        \u001B[49m\u001B[38;5;28;43mself\u001B[39;49m\u001B[43m.\u001B[49m\u001B[43mestimator\u001B[49m\u001B[43m,\u001B[49m\n\u001B[32m    379\u001B[39m \u001B[43m        \u001B[49m\u001B[43mX\u001B[49m\u001B[43m,\u001B[49m\n\u001B[32m    380\u001B[39m \u001B[43m        \u001B[49m\u001B[43mcolumn\u001B[49m\u001B[43m,\u001B[49m\n\u001B[32m    381\u001B[39m \u001B[43m        \u001B[49m\u001B[43mfit_params\u001B[49m\u001B[43m=\u001B[49m\u001B[43mrouted_params\u001B[49m\u001B[43m.\u001B[49m\u001B[43mestimator\u001B[49m\u001B[43m.\u001B[49m\u001B[43mfit\u001B[49m\u001B[43m,\u001B[49m\n\u001B[32m    382\u001B[39m \u001B[43m        \u001B[49m\u001B[43mclasses\u001B[49m\u001B[43m=\u001B[49m\u001B[43m[\u001B[49m\n\u001B[32m    383\u001B[39m \u001B[43m            \u001B[49m\u001B[33;43m\"\u001B[39;49m\u001B[33;43mnot \u001B[39;49m\u001B[38;5;132;43;01m%s\u001B[39;49;00m\u001B[33;43m\"\u001B[39;49m\u001B[43m \u001B[49m\u001B[43m%\u001B[49m\u001B[43m \u001B[49m\u001B[38;5;28;43mself\u001B[39;49m\u001B[43m.\u001B[49m\u001B[43mlabel_binarizer_\u001B[49m\u001B[43m.\u001B[49m\u001B[43mclasses_\u001B[49m\u001B[43m[\u001B[49m\u001B[43mi\u001B[49m\u001B[43m]\u001B[49m\u001B[43m,\u001B[49m\n\u001B[32m    384\u001B[39m \u001B[43m            \u001B[49m\u001B[38;5;28;43mself\u001B[39;49m\u001B[43m.\u001B[49m\u001B[43mlabel_binarizer_\u001B[49m\u001B[43m.\u001B[49m\u001B[43mclasses_\u001B[49m\u001B[43m[\u001B[49m\u001B[43mi\u001B[49m\u001B[43m]\u001B[49m\u001B[43m,\u001B[49m\n\u001B[32m    385\u001B[39m \u001B[43m        \u001B[49m\u001B[43m]\u001B[49m\u001B[43m,\u001B[49m\n\u001B[32m    386\u001B[39m \u001B[43m    \u001B[49m\u001B[43m)\u001B[49m\n\u001B[32m    387\u001B[39m \u001B[43m    \u001B[49m\u001B[38;5;28;43;01mfor\u001B[39;49;00m\u001B[43m \u001B[49m\u001B[43mi\u001B[49m\u001B[43m,\u001B[49m\u001B[43m \u001B[49m\u001B[43mcolumn\u001B[49m\u001B[43m \u001B[49m\u001B[38;5;129;43;01min\u001B[39;49;00m\u001B[43m \u001B[49m\u001B[38;5;28;43menumerate\u001B[39;49m\u001B[43m(\u001B[49m\u001B[43mcolumns\u001B[49m\u001B[43m)\u001B[49m\n\u001B[32m    388\u001B[39m \u001B[43m\u001B[49m\u001B[43m)\u001B[49m\n\u001B[32m    390\u001B[39m \u001B[38;5;28;01mif\u001B[39;00m \u001B[38;5;28mhasattr\u001B[39m(\u001B[38;5;28mself\u001B[39m.estimators_[\u001B[32m0\u001B[39m], \u001B[33m\"\u001B[39m\u001B[33mn_features_in_\u001B[39m\u001B[33m\"\u001B[39m):\n\u001B[32m    391\u001B[39m     \u001B[38;5;28mself\u001B[39m.n_features_in_ = \u001B[38;5;28mself\u001B[39m.estimators_[\u001B[32m0\u001B[39m].n_features_in_\n",
      "\u001B[36mFile \u001B[39m\u001B[32m/opt/homebrew/Caskroom/miniconda/base/envs/biostat-fitness/lib/python3.13/site-packages/sklearn/utils/parallel.py:82\u001B[39m, in \u001B[36mParallel.__call__\u001B[39m\u001B[34m(self, iterable)\u001B[39m\n\u001B[32m     73\u001B[39m warning_filters = warnings.filters\n\u001B[32m     74\u001B[39m iterable_with_config_and_warning_filters = (\n\u001B[32m     75\u001B[39m     (\n\u001B[32m     76\u001B[39m         _with_config_and_warning_filters(delayed_func, config, warning_filters),\n\u001B[32m   (...)\u001B[39m\u001B[32m     80\u001B[39m     \u001B[38;5;28;01mfor\u001B[39;00m delayed_func, args, kwargs \u001B[38;5;129;01min\u001B[39;00m iterable\n\u001B[32m     81\u001B[39m )\n\u001B[32m---> \u001B[39m\u001B[32m82\u001B[39m \u001B[38;5;28;01mreturn\u001B[39;00m \u001B[38;5;28;43msuper\u001B[39;49m\u001B[43m(\u001B[49m\u001B[43m)\u001B[49m\u001B[43m.\u001B[49m\u001B[34;43m__call__\u001B[39;49m\u001B[43m(\u001B[49m\u001B[43miterable_with_config_and_warning_filters\u001B[49m\u001B[43m)\u001B[49m\n",
      "\u001B[36mFile \u001B[39m\u001B[32m/opt/homebrew/Caskroom/miniconda/base/envs/biostat-fitness/lib/python3.13/site-packages/joblib/parallel.py:1986\u001B[39m, in \u001B[36mParallel.__call__\u001B[39m\u001B[34m(self, iterable)\u001B[39m\n\u001B[32m   1984\u001B[39m     output = \u001B[38;5;28mself\u001B[39m._get_sequential_output(iterable)\n\u001B[32m   1985\u001B[39m     \u001B[38;5;28mnext\u001B[39m(output)\n\u001B[32m-> \u001B[39m\u001B[32m1986\u001B[39m     \u001B[38;5;28;01mreturn\u001B[39;00m output \u001B[38;5;28;01mif\u001B[39;00m \u001B[38;5;28mself\u001B[39m.return_generator \u001B[38;5;28;01melse\u001B[39;00m \u001B[38;5;28;43mlist\u001B[39;49m\u001B[43m(\u001B[49m\u001B[43moutput\u001B[49m\u001B[43m)\u001B[49m\n\u001B[32m   1988\u001B[39m \u001B[38;5;66;03m# Let's create an ID that uniquely identifies the current call. If the\u001B[39;00m\n\u001B[32m   1989\u001B[39m \u001B[38;5;66;03m# call is interrupted early and that the same instance is immediately\u001B[39;00m\n\u001B[32m   1990\u001B[39m \u001B[38;5;66;03m# reused, this id will be used to prevent workers that were\u001B[39;00m\n\u001B[32m   1991\u001B[39m \u001B[38;5;66;03m# concurrently finalizing a task from the previous call to run the\u001B[39;00m\n\u001B[32m   1992\u001B[39m \u001B[38;5;66;03m# callback.\u001B[39;00m\n\u001B[32m   1993\u001B[39m \u001B[38;5;28;01mwith\u001B[39;00m \u001B[38;5;28mself\u001B[39m._lock:\n",
      "\u001B[36mFile \u001B[39m\u001B[32m/opt/homebrew/Caskroom/miniconda/base/envs/biostat-fitness/lib/python3.13/site-packages/joblib/parallel.py:1914\u001B[39m, in \u001B[36mParallel._get_sequential_output\u001B[39m\u001B[34m(self, iterable)\u001B[39m\n\u001B[32m   1912\u001B[39m \u001B[38;5;28mself\u001B[39m.n_dispatched_batches += \u001B[32m1\u001B[39m\n\u001B[32m   1913\u001B[39m \u001B[38;5;28mself\u001B[39m.n_dispatched_tasks += \u001B[32m1\u001B[39m\n\u001B[32m-> \u001B[39m\u001B[32m1914\u001B[39m res = \u001B[43mfunc\u001B[49m\u001B[43m(\u001B[49m\u001B[43m*\u001B[49m\u001B[43margs\u001B[49m\u001B[43m,\u001B[49m\u001B[43m \u001B[49m\u001B[43m*\u001B[49m\u001B[43m*\u001B[49m\u001B[43mkwargs\u001B[49m\u001B[43m)\u001B[49m\n\u001B[32m   1915\u001B[39m \u001B[38;5;28mself\u001B[39m.n_completed_tasks += \u001B[32m1\u001B[39m\n\u001B[32m   1916\u001B[39m \u001B[38;5;28mself\u001B[39m.print_progress()\n",
      "\u001B[36mFile \u001B[39m\u001B[32m/opt/homebrew/Caskroom/miniconda/base/envs/biostat-fitness/lib/python3.13/site-packages/sklearn/utils/parallel.py:147\u001B[39m, in \u001B[36m_FuncWrapper.__call__\u001B[39m\u001B[34m(self, *args, **kwargs)\u001B[39m\n\u001B[32m    145\u001B[39m \u001B[38;5;28;01mwith\u001B[39;00m config_context(**config), warnings.catch_warnings():\n\u001B[32m    146\u001B[39m     warnings.filters = warning_filters\n\u001B[32m--> \u001B[39m\u001B[32m147\u001B[39m     \u001B[38;5;28;01mreturn\u001B[39;00m \u001B[38;5;28;43mself\u001B[39;49m\u001B[43m.\u001B[49m\u001B[43mfunction\u001B[49m\u001B[43m(\u001B[49m\u001B[43m*\u001B[49m\u001B[43margs\u001B[49m\u001B[43m,\u001B[49m\u001B[43m \u001B[49m\u001B[43m*\u001B[49m\u001B[43m*\u001B[49m\u001B[43mkwargs\u001B[49m\u001B[43m)\u001B[49m\n",
      "\u001B[36mFile \u001B[39m\u001B[32m/opt/homebrew/Caskroom/miniconda/base/envs/biostat-fitness/lib/python3.13/site-packages/sklearn/multiclass.py:96\u001B[39m, in \u001B[36m_fit_binary\u001B[39m\u001B[34m(estimator, X, y, fit_params, classes)\u001B[39m\n\u001B[32m     94\u001B[39m \u001B[38;5;28;01melse\u001B[39;00m:\n\u001B[32m     95\u001B[39m     estimator = clone(estimator)\n\u001B[32m---> \u001B[39m\u001B[32m96\u001B[39m     \u001B[43mestimator\u001B[49m\u001B[43m.\u001B[49m\u001B[43mfit\u001B[49m\u001B[43m(\u001B[49m\u001B[43mX\u001B[49m\u001B[43m,\u001B[49m\u001B[43m \u001B[49m\u001B[43my\u001B[49m\u001B[43m,\u001B[49m\u001B[43m \u001B[49m\u001B[43m*\u001B[49m\u001B[43m*\u001B[49m\u001B[43mfit_params\u001B[49m\u001B[43m)\u001B[49m\n\u001B[32m     97\u001B[39m \u001B[38;5;28;01mreturn\u001B[39;00m estimator\n",
      "\u001B[36mFile \u001B[39m\u001B[32m/opt/homebrew/Caskroom/miniconda/base/envs/biostat-fitness/lib/python3.13/site-packages/sklearn/gaussian_process/_gpc.py:228\u001B[39m, in \u001B[36m_BinaryGaussianProcessClassifierLaplace.fit\u001B[39m\u001B[34m(self, X, y)\u001B[39m\n\u001B[32m    224\u001B[39m         \u001B[38;5;28;01mreturn\u001B[39;00m -\u001B[38;5;28mself\u001B[39m.log_marginal_likelihood(theta, clone_kernel=\u001B[38;5;28;01mFalse\u001B[39;00m)\n\u001B[32m    226\u001B[39m \u001B[38;5;66;03m# First optimize starting from theta specified in kernel\u001B[39;00m\n\u001B[32m    227\u001B[39m optima = [\n\u001B[32m--> \u001B[39m\u001B[32m228\u001B[39m     \u001B[38;5;28;43mself\u001B[39;49m\u001B[43m.\u001B[49m\u001B[43m_constrained_optimization\u001B[49m\u001B[43m(\u001B[49m\n\u001B[32m    229\u001B[39m \u001B[43m        \u001B[49m\u001B[43mobj_func\u001B[49m\u001B[43m,\u001B[49m\u001B[43m \u001B[49m\u001B[38;5;28;43mself\u001B[39;49m\u001B[43m.\u001B[49m\u001B[43mkernel_\u001B[49m\u001B[43m.\u001B[49m\u001B[43mtheta\u001B[49m\u001B[43m,\u001B[49m\u001B[43m \u001B[49m\u001B[38;5;28;43mself\u001B[39;49m\u001B[43m.\u001B[49m\u001B[43mkernel_\u001B[49m\u001B[43m.\u001B[49m\u001B[43mbounds\u001B[49m\n\u001B[32m    230\u001B[39m \u001B[43m    \u001B[49m\u001B[43m)\u001B[49m\n\u001B[32m    231\u001B[39m ]\n\u001B[32m    233\u001B[39m \u001B[38;5;66;03m# Additional runs are performed from log-uniform chosen initial\u001B[39;00m\n\u001B[32m    234\u001B[39m \u001B[38;5;66;03m# theta\u001B[39;00m\n\u001B[32m    235\u001B[39m \u001B[38;5;28;01mif\u001B[39;00m \u001B[38;5;28mself\u001B[39m.n_restarts_optimizer > \u001B[32m0\u001B[39m:\n",
      "\u001B[36mFile \u001B[39m\u001B[32m/opt/homebrew/Caskroom/miniconda/base/envs/biostat-fitness/lib/python3.13/site-packages/sklearn/gaussian_process/_gpc.py:503\u001B[39m, in \u001B[36m_BinaryGaussianProcessClassifierLaplace._constrained_optimization\u001B[39m\u001B[34m(self, obj_func, initial_theta, bounds)\u001B[39m\n\u001B[32m    501\u001B[39m \u001B[38;5;28;01mdef\u001B[39;00m\u001B[38;5;250m \u001B[39m\u001B[34m_constrained_optimization\u001B[39m(\u001B[38;5;28mself\u001B[39m, obj_func, initial_theta, bounds):\n\u001B[32m    502\u001B[39m     \u001B[38;5;28;01mif\u001B[39;00m \u001B[38;5;28mself\u001B[39m.optimizer == \u001B[33m\"\u001B[39m\u001B[33mfmin_l_bfgs_b\u001B[39m\u001B[33m\"\u001B[39m:\n\u001B[32m--> \u001B[39m\u001B[32m503\u001B[39m         opt_res = \u001B[43mscipy\u001B[49m\u001B[43m.\u001B[49m\u001B[43moptimize\u001B[49m\u001B[43m.\u001B[49m\u001B[43mminimize\u001B[49m\u001B[43m(\u001B[49m\n\u001B[32m    504\u001B[39m \u001B[43m            \u001B[49m\u001B[43mobj_func\u001B[49m\u001B[43m,\u001B[49m\u001B[43m \u001B[49m\u001B[43minitial_theta\u001B[49m\u001B[43m,\u001B[49m\u001B[43m \u001B[49m\u001B[43mmethod\u001B[49m\u001B[43m=\u001B[49m\u001B[33;43m\"\u001B[39;49m\u001B[33;43mL-BFGS-B\u001B[39;49m\u001B[33;43m\"\u001B[39;49m\u001B[43m,\u001B[49m\u001B[43m \u001B[49m\u001B[43mjac\u001B[49m\u001B[43m=\u001B[49m\u001B[38;5;28;43;01mTrue\u001B[39;49;00m\u001B[43m,\u001B[49m\u001B[43m \u001B[49m\u001B[43mbounds\u001B[49m\u001B[43m=\u001B[49m\u001B[43mbounds\u001B[49m\n\u001B[32m    505\u001B[39m \u001B[43m        \u001B[49m\u001B[43m)\u001B[49m\n\u001B[32m    506\u001B[39m         _check_optimize_result(\u001B[33m\"\u001B[39m\u001B[33mlbfgs\u001B[39m\u001B[33m\"\u001B[39m, opt_res)\n\u001B[32m    507\u001B[39m         theta_opt, func_min = opt_res.x, opt_res.fun\n",
      "\u001B[36mFile \u001B[39m\u001B[32m/opt/homebrew/Caskroom/miniconda/base/envs/biostat-fitness/lib/python3.13/site-packages/scipy/optimize/_minimize.py:784\u001B[39m, in \u001B[36mminimize\u001B[39m\u001B[34m(fun, x0, args, method, jac, hess, hessp, bounds, constraints, tol, callback, options)\u001B[39m\n\u001B[32m    781\u001B[39m     res = _minimize_newtoncg(fun, x0, args, jac, hess, hessp, callback,\n\u001B[32m    782\u001B[39m                              **options)\n\u001B[32m    783\u001B[39m \u001B[38;5;28;01melif\u001B[39;00m meth == \u001B[33m'\u001B[39m\u001B[33ml-bfgs-b\u001B[39m\u001B[33m'\u001B[39m:\n\u001B[32m--> \u001B[39m\u001B[32m784\u001B[39m     res = \u001B[43m_minimize_lbfgsb\u001B[49m\u001B[43m(\u001B[49m\u001B[43mfun\u001B[49m\u001B[43m,\u001B[49m\u001B[43m \u001B[49m\u001B[43mx0\u001B[49m\u001B[43m,\u001B[49m\u001B[43m \u001B[49m\u001B[43margs\u001B[49m\u001B[43m,\u001B[49m\u001B[43m \u001B[49m\u001B[43mjac\u001B[49m\u001B[43m,\u001B[49m\u001B[43m \u001B[49m\u001B[43mbounds\u001B[49m\u001B[43m,\u001B[49m\n\u001B[32m    785\u001B[39m \u001B[43m                           \u001B[49m\u001B[43mcallback\u001B[49m\u001B[43m=\u001B[49m\u001B[43mcallback\u001B[49m\u001B[43m,\u001B[49m\u001B[43m \u001B[49m\u001B[43m*\u001B[49m\u001B[43m*\u001B[49m\u001B[43moptions\u001B[49m\u001B[43m)\u001B[49m\n\u001B[32m    786\u001B[39m \u001B[38;5;28;01melif\u001B[39;00m meth == \u001B[33m'\u001B[39m\u001B[33mtnc\u001B[39m\u001B[33m'\u001B[39m:\n\u001B[32m    787\u001B[39m     res = _minimize_tnc(fun, x0, args, jac, bounds, callback=callback,\n\u001B[32m    788\u001B[39m                         **options)\n",
      "\u001B[36mFile \u001B[39m\u001B[32m/opt/homebrew/Caskroom/miniconda/base/envs/biostat-fitness/lib/python3.13/site-packages/scipy/optimize/_lbfgsb_py.py:413\u001B[39m, in \u001B[36m_minimize_lbfgsb\u001B[39m\u001B[34m(fun, x0, args, jac, bounds, disp, maxcor, ftol, gtol, eps, maxfun, maxiter, iprint, callback, maxls, finite_diff_rel_step, workers, **unknown_options)\u001B[39m\n\u001B[32m    410\u001B[39m     x0 = np.clip(x0, bounds[\u001B[32m0\u001B[39m], bounds[\u001B[32m1\u001B[39m])\n\u001B[32m    412\u001B[39m \u001B[38;5;66;03m# _prepare_scalar_function can use bounds=None to represent no bounds\u001B[39;00m\n\u001B[32m--> \u001B[39m\u001B[32m413\u001B[39m sf = \u001B[43m_prepare_scalar_function\u001B[49m\u001B[43m(\u001B[49m\u001B[43mfun\u001B[49m\u001B[43m,\u001B[49m\u001B[43m \u001B[49m\u001B[43mx0\u001B[49m\u001B[43m,\u001B[49m\u001B[43m \u001B[49m\u001B[43mjac\u001B[49m\u001B[43m=\u001B[49m\u001B[43mjac\u001B[49m\u001B[43m,\u001B[49m\u001B[43m \u001B[49m\u001B[43margs\u001B[49m\u001B[43m=\u001B[49m\u001B[43margs\u001B[49m\u001B[43m,\u001B[49m\u001B[43m \u001B[49m\u001B[43mepsilon\u001B[49m\u001B[43m=\u001B[49m\u001B[43meps\u001B[49m\u001B[43m,\u001B[49m\n\u001B[32m    414\u001B[39m \u001B[43m                              \u001B[49m\u001B[43mbounds\u001B[49m\u001B[43m=\u001B[49m\u001B[43mbounds\u001B[49m\u001B[43m,\u001B[49m\n\u001B[32m    415\u001B[39m \u001B[43m                              \u001B[49m\u001B[43mfinite_diff_rel_step\u001B[49m\u001B[43m=\u001B[49m\u001B[43mfinite_diff_rel_step\u001B[49m\u001B[43m,\u001B[49m\n\u001B[32m    416\u001B[39m \u001B[43m                              \u001B[49m\u001B[43mworkers\u001B[49m\u001B[43m=\u001B[49m\u001B[43mworkers\u001B[49m\u001B[43m)\u001B[49m\n\u001B[32m    418\u001B[39m func_and_grad = sf.fun_and_grad\n\u001B[32m    420\u001B[39m nbd = zeros(n, np.int32)\n",
      "\u001B[36mFile \u001B[39m\u001B[32m/opt/homebrew/Caskroom/miniconda/base/envs/biostat-fitness/lib/python3.13/site-packages/scipy/optimize/_optimize.py:310\u001B[39m, in \u001B[36m_prepare_scalar_function\u001B[39m\u001B[34m(fun, x0, jac, args, bounds, epsilon, finite_diff_rel_step, hess, workers)\u001B[39m\n\u001B[32m    306\u001B[39m workers = workers \u001B[38;5;129;01mor\u001B[39;00m \u001B[38;5;28mmap\u001B[39m\n\u001B[32m    308\u001B[39m \u001B[38;5;66;03m# ScalarFunction caches. Reuse of fun(x) during grad\u001B[39;00m\n\u001B[32m    309\u001B[39m \u001B[38;5;66;03m# calculation reduces overall function evaluations.\u001B[39;00m\n\u001B[32m--> \u001B[39m\u001B[32m310\u001B[39m sf = \u001B[43mScalarFunction\u001B[49m\u001B[43m(\u001B[49m\u001B[43mfun\u001B[49m\u001B[43m,\u001B[49m\u001B[43m \u001B[49m\u001B[43mx0\u001B[49m\u001B[43m,\u001B[49m\u001B[43m \u001B[49m\u001B[43margs\u001B[49m\u001B[43m,\u001B[49m\u001B[43m \u001B[49m\u001B[43mgrad\u001B[49m\u001B[43m,\u001B[49m\u001B[43m \u001B[49m\u001B[43mhess\u001B[49m\u001B[43m,\u001B[49m\n\u001B[32m    311\u001B[39m \u001B[43m                    \u001B[49m\u001B[43mfinite_diff_rel_step\u001B[49m\u001B[43m,\u001B[49m\u001B[43m \u001B[49m\u001B[43mbounds\u001B[49m\u001B[43m,\u001B[49m\u001B[43m \u001B[49m\u001B[43mepsilon\u001B[49m\u001B[43m=\u001B[49m\u001B[43mepsilon\u001B[49m\u001B[43m,\u001B[49m\n\u001B[32m    312\u001B[39m \u001B[43m                    \u001B[49m\u001B[43mworkers\u001B[49m\u001B[43m=\u001B[49m\u001B[43mworkers\u001B[49m\u001B[43m)\u001B[49m\n\u001B[32m    314\u001B[39m \u001B[38;5;28;01mreturn\u001B[39;00m sf\n",
      "\u001B[36mFile \u001B[39m\u001B[32m/opt/homebrew/Caskroom/miniconda/base/envs/biostat-fitness/lib/python3.13/site-packages/scipy/optimize/_differentiable_functions.py:274\u001B[39m, in \u001B[36mScalarFunction.__init__\u001B[39m\u001B[34m(self, fun, x0, args, grad, hess, finite_diff_rel_step, finite_diff_bounds, epsilon, workers)\u001B[39m\n\u001B[32m    272\u001B[39m \u001B[38;5;66;03m# Initial function evaluation\u001B[39;00m\n\u001B[32m    273\u001B[39m \u001B[38;5;28mself\u001B[39m._nfev = \u001B[32m0\u001B[39m\n\u001B[32m--> \u001B[39m\u001B[32m274\u001B[39m \u001B[38;5;28;43mself\u001B[39;49m\u001B[43m.\u001B[49m\u001B[43m_update_fun\u001B[49m\u001B[43m(\u001B[49m\u001B[43m)\u001B[49m\n\u001B[32m    276\u001B[39m \u001B[38;5;66;03m# Initial gradient evaluation\u001B[39;00m\n\u001B[32m    277\u001B[39m \u001B[38;5;28mself\u001B[39m._wrapped_grad = _ScalarGradWrapper(\n\u001B[32m    278\u001B[39m     grad,\n\u001B[32m    279\u001B[39m     fun=\u001B[38;5;28mself\u001B[39m._wrapped_fun,\n\u001B[32m    280\u001B[39m     args=args,\n\u001B[32m    281\u001B[39m     finite_diff_options=finite_diff_options,\n\u001B[32m    282\u001B[39m )\n",
      "\u001B[36mFile \u001B[39m\u001B[32m/opt/homebrew/Caskroom/miniconda/base/envs/biostat-fitness/lib/python3.13/site-packages/scipy/optimize/_differentiable_functions.py:353\u001B[39m, in \u001B[36mScalarFunction._update_fun\u001B[39m\u001B[34m(self)\u001B[39m\n\u001B[32m    351\u001B[39m \u001B[38;5;28;01mdef\u001B[39;00m\u001B[38;5;250m \u001B[39m\u001B[34m_update_fun\u001B[39m(\u001B[38;5;28mself\u001B[39m):\n\u001B[32m    352\u001B[39m     \u001B[38;5;28;01mif\u001B[39;00m \u001B[38;5;129;01mnot\u001B[39;00m \u001B[38;5;28mself\u001B[39m.f_updated:\n\u001B[32m--> \u001B[39m\u001B[32m353\u001B[39m         fx = \u001B[38;5;28;43mself\u001B[39;49m\u001B[43m.\u001B[49m\u001B[43m_wrapped_fun\u001B[49m\u001B[43m(\u001B[49m\u001B[38;5;28;43mself\u001B[39;49m\u001B[43m.\u001B[49m\u001B[43mx\u001B[49m\u001B[43m)\u001B[49m\n\u001B[32m    354\u001B[39m         \u001B[38;5;28mself\u001B[39m._nfev += \u001B[32m1\u001B[39m\n\u001B[32m    355\u001B[39m         \u001B[38;5;28;01mif\u001B[39;00m fx < \u001B[38;5;28mself\u001B[39m._lowest_f:\n",
      "\u001B[36mFile \u001B[39m\u001B[32m/opt/homebrew/Caskroom/miniconda/base/envs/biostat-fitness/lib/python3.13/site-packages/scipy/_lib/_util.py:590\u001B[39m, in \u001B[36m_ScalarFunctionWrapper.__call__\u001B[39m\u001B[34m(self, x)\u001B[39m\n\u001B[32m    587\u001B[39m \u001B[38;5;28;01mdef\u001B[39;00m\u001B[38;5;250m \u001B[39m\u001B[34m__call__\u001B[39m(\u001B[38;5;28mself\u001B[39m, x):\n\u001B[32m    588\u001B[39m     \u001B[38;5;66;03m# Send a copy because the user may overwrite it.\u001B[39;00m\n\u001B[32m    589\u001B[39m     \u001B[38;5;66;03m# The user of this class might want `x` to remain unchanged.\u001B[39;00m\n\u001B[32m--> \u001B[39m\u001B[32m590\u001B[39m     fx = \u001B[38;5;28;43mself\u001B[39;49m\u001B[43m.\u001B[49m\u001B[43mf\u001B[49m\u001B[43m(\u001B[49m\u001B[43mnp\u001B[49m\u001B[43m.\u001B[49m\u001B[43mcopy\u001B[49m\u001B[43m(\u001B[49m\u001B[43mx\u001B[49m\u001B[43m)\u001B[49m\u001B[43m,\u001B[49m\u001B[43m \u001B[49m\u001B[43m*\u001B[49m\u001B[38;5;28;43mself\u001B[39;49m\u001B[43m.\u001B[49m\u001B[43margs\u001B[49m\u001B[43m)\u001B[49m\n\u001B[32m    591\u001B[39m     \u001B[38;5;28mself\u001B[39m.nfev += \u001B[32m1\u001B[39m\n\u001B[32m    593\u001B[39m     \u001B[38;5;66;03m# Make sure the function returns a true scalar\u001B[39;00m\n",
      "\u001B[36mFile \u001B[39m\u001B[32m/opt/homebrew/Caskroom/miniconda/base/envs/biostat-fitness/lib/python3.13/site-packages/scipy/optimize/_optimize.py:80\u001B[39m, in \u001B[36mMemoizeJac.__call__\u001B[39m\u001B[34m(self, x, *args)\u001B[39m\n\u001B[32m     78\u001B[39m \u001B[38;5;28;01mdef\u001B[39;00m\u001B[38;5;250m \u001B[39m\u001B[34m__call__\u001B[39m(\u001B[38;5;28mself\u001B[39m, x, *args):\n\u001B[32m     79\u001B[39m \u001B[38;5;250m    \u001B[39m\u001B[33;03m\"\"\" returns the function value \"\"\"\u001B[39;00m\n\u001B[32m---> \u001B[39m\u001B[32m80\u001B[39m     \u001B[38;5;28;43mself\u001B[39;49m\u001B[43m.\u001B[49m\u001B[43m_compute_if_needed\u001B[49m\u001B[43m(\u001B[49m\u001B[43mx\u001B[49m\u001B[43m,\u001B[49m\u001B[43m \u001B[49m\u001B[43m*\u001B[49m\u001B[43margs\u001B[49m\u001B[43m)\u001B[49m\n\u001B[32m     81\u001B[39m     \u001B[38;5;28;01mreturn\u001B[39;00m \u001B[38;5;28mself\u001B[39m._value\n",
      "\u001B[36mFile \u001B[39m\u001B[32m/opt/homebrew/Caskroom/miniconda/base/envs/biostat-fitness/lib/python3.13/site-packages/scipy/optimize/_optimize.py:74\u001B[39m, in \u001B[36mMemoizeJac._compute_if_needed\u001B[39m\u001B[34m(self, x, *args)\u001B[39m\n\u001B[32m     72\u001B[39m \u001B[38;5;28;01mif\u001B[39;00m \u001B[38;5;129;01mnot\u001B[39;00m np.all(x == \u001B[38;5;28mself\u001B[39m.x) \u001B[38;5;129;01mor\u001B[39;00m \u001B[38;5;28mself\u001B[39m._value \u001B[38;5;129;01mis\u001B[39;00m \u001B[38;5;28;01mNone\u001B[39;00m \u001B[38;5;129;01mor\u001B[39;00m \u001B[38;5;28mself\u001B[39m.jac \u001B[38;5;129;01mis\u001B[39;00m \u001B[38;5;28;01mNone\u001B[39;00m:\n\u001B[32m     73\u001B[39m     \u001B[38;5;28mself\u001B[39m.x = np.asarray(x).copy()\n\u001B[32m---> \u001B[39m\u001B[32m74\u001B[39m     fg = \u001B[38;5;28;43mself\u001B[39;49m\u001B[43m.\u001B[49m\u001B[43mfun\u001B[49m\u001B[43m(\u001B[49m\u001B[43mx\u001B[49m\u001B[43m,\u001B[49m\u001B[43m \u001B[49m\u001B[43m*\u001B[49m\u001B[43margs\u001B[49m\u001B[43m)\u001B[49m\n\u001B[32m     75\u001B[39m     \u001B[38;5;28mself\u001B[39m.jac = fg[\u001B[32m1\u001B[39m]\n\u001B[32m     76\u001B[39m     \u001B[38;5;28mself\u001B[39m._value = fg[\u001B[32m0\u001B[39m]\n",
      "\u001B[36mFile \u001B[39m\u001B[32m/opt/homebrew/Caskroom/miniconda/base/envs/biostat-fitness/lib/python3.13/site-packages/sklearn/gaussian_process/_gpc.py:219\u001B[39m, in \u001B[36m_BinaryGaussianProcessClassifierLaplace.fit.<locals>.obj_func\u001B[39m\u001B[34m(theta, eval_gradient)\u001B[39m\n\u001B[32m    217\u001B[39m \u001B[38;5;28;01mdef\u001B[39;00m\u001B[38;5;250m \u001B[39m\u001B[34mobj_func\u001B[39m(theta, eval_gradient=\u001B[38;5;28;01mTrue\u001B[39;00m):\n\u001B[32m    218\u001B[39m     \u001B[38;5;28;01mif\u001B[39;00m eval_gradient:\n\u001B[32m--> \u001B[39m\u001B[32m219\u001B[39m         lml, grad = \u001B[38;5;28;43mself\u001B[39;49m\u001B[43m.\u001B[49m\u001B[43mlog_marginal_likelihood\u001B[49m\u001B[43m(\u001B[49m\n\u001B[32m    220\u001B[39m \u001B[43m            \u001B[49m\u001B[43mtheta\u001B[49m\u001B[43m,\u001B[49m\u001B[43m \u001B[49m\u001B[43meval_gradient\u001B[49m\u001B[43m=\u001B[49m\u001B[38;5;28;43;01mTrue\u001B[39;49;00m\u001B[43m,\u001B[49m\u001B[43m \u001B[49m\u001B[43mclone_kernel\u001B[49m\u001B[43m=\u001B[49m\u001B[38;5;28;43;01mFalse\u001B[39;49;00m\n\u001B[32m    221\u001B[39m \u001B[43m        \u001B[49m\u001B[43m)\u001B[49m\n\u001B[32m    222\u001B[39m         \u001B[38;5;28;01mreturn\u001B[39;00m -lml, -grad\n\u001B[32m    223\u001B[39m     \u001B[38;5;28;01melse\u001B[39;00m:\n",
      "\u001B[36mFile \u001B[39m\u001B[32m/opt/homebrew/Caskroom/miniconda/base/envs/biostat-fitness/lib/python3.13/site-packages/sklearn/gaussian_process/_gpc.py:375\u001B[39m, in \u001B[36m_BinaryGaussianProcessClassifierLaplace.log_marginal_likelihood\u001B[39m\u001B[34m(self, theta, eval_gradient, clone_kernel)\u001B[39m\n\u001B[32m    372\u001B[39m     kernel.theta = theta\n\u001B[32m    374\u001B[39m \u001B[38;5;28;01mif\u001B[39;00m eval_gradient:\n\u001B[32m--> \u001B[39m\u001B[32m375\u001B[39m     K, K_gradient = \u001B[43mkernel\u001B[49m\u001B[43m(\u001B[49m\u001B[38;5;28;43mself\u001B[39;49m\u001B[43m.\u001B[49m\u001B[43mX_train_\u001B[49m\u001B[43m,\u001B[49m\u001B[43m \u001B[49m\u001B[43meval_gradient\u001B[49m\u001B[43m=\u001B[49m\u001B[38;5;28;43;01mTrue\u001B[39;49;00m\u001B[43m)\u001B[49m\n\u001B[32m    376\u001B[39m \u001B[38;5;28;01melse\u001B[39;00m:\n\u001B[32m    377\u001B[39m     K = kernel(\u001B[38;5;28mself\u001B[39m.X_train_)\n",
      "\u001B[36mFile \u001B[39m\u001B[32m/opt/homebrew/Caskroom/miniconda/base/envs/biostat-fitness/lib/python3.13/site-packages/sklearn/gaussian_process/kernels.py:960\u001B[39m, in \u001B[36mProduct.__call__\u001B[39m\u001B[34m(self, X, Y, eval_gradient)\u001B[39m\n\u001B[32m    932\u001B[39m \u001B[38;5;250m\u001B[39m\u001B[33;03m\"\"\"Return the kernel k(X, Y) and optionally its gradient.\u001B[39;00m\n\u001B[32m    933\u001B[39m \n\u001B[32m    934\u001B[39m \u001B[33;03mParameters\u001B[39;00m\n\u001B[32m   (...)\u001B[39m\u001B[32m    957\u001B[39m \u001B[33;03m    is True.\u001B[39;00m\n\u001B[32m    958\u001B[39m \u001B[33;03m\"\"\"\u001B[39;00m\n\u001B[32m    959\u001B[39m \u001B[38;5;28;01mif\u001B[39;00m eval_gradient:\n\u001B[32m--> \u001B[39m\u001B[32m960\u001B[39m     K1, K1_gradient = \u001B[38;5;28;43mself\u001B[39;49m\u001B[43m.\u001B[49m\u001B[43mk1\u001B[49m\u001B[43m(\u001B[49m\u001B[43mX\u001B[49m\u001B[43m,\u001B[49m\u001B[43m \u001B[49m\u001B[43mY\u001B[49m\u001B[43m,\u001B[49m\u001B[43m \u001B[49m\u001B[43meval_gradient\u001B[49m\u001B[43m=\u001B[49m\u001B[38;5;28;43;01mTrue\u001B[39;49;00m\u001B[43m)\u001B[49m\n\u001B[32m    961\u001B[39m     K2, K2_gradient = \u001B[38;5;28mself\u001B[39m.k2(X, Y, eval_gradient=\u001B[38;5;28;01mTrue\u001B[39;00m)\n\u001B[32m    962\u001B[39m     \u001B[38;5;28;01mreturn\u001B[39;00m K1 * K2, np.dstack(\n\u001B[32m    963\u001B[39m         (K1_gradient * K2[:, :, np.newaxis], K2_gradient * K1[:, :, np.newaxis])\n\u001B[32m    964\u001B[39m     )\n",
      "\u001B[36mFile \u001B[39m\u001B[32m/opt/homebrew/Caskroom/miniconda/base/envs/biostat-fitness/lib/python3.13/site-packages/sklearn/gaussian_process/kernels.py:1273\u001B[39m, in \u001B[36mConstantKernel.__call__\u001B[39m\u001B[34m(self, X, Y, eval_gradient)\u001B[39m\n\u001B[32m   1270\u001B[39m \u001B[38;5;28;01melif\u001B[39;00m eval_gradient:\n\u001B[32m   1271\u001B[39m     \u001B[38;5;28;01mraise\u001B[39;00m \u001B[38;5;167;01mValueError\u001B[39;00m(\u001B[33m\"\u001B[39m\u001B[33mGradient can only be evaluated when Y is None.\u001B[39m\u001B[33m\"\u001B[39m)\n\u001B[32m-> \u001B[39m\u001B[32m1273\u001B[39m K = \u001B[43mnp\u001B[49m\u001B[43m.\u001B[49m\u001B[43mfull\u001B[49m\u001B[43m(\u001B[49m\n\u001B[32m   1274\u001B[39m \u001B[43m    \u001B[49m\u001B[43m(\u001B[49m\u001B[43m_num_samples\u001B[49m\u001B[43m(\u001B[49m\u001B[43mX\u001B[49m\u001B[43m)\u001B[49m\u001B[43m,\u001B[49m\u001B[43m \u001B[49m\u001B[43m_num_samples\u001B[49m\u001B[43m(\u001B[49m\u001B[43mY\u001B[49m\u001B[43m)\u001B[49m\u001B[43m)\u001B[49m\u001B[43m,\u001B[49m\n\u001B[32m   1275\u001B[39m \u001B[43m    \u001B[49m\u001B[38;5;28;43mself\u001B[39;49m\u001B[43m.\u001B[49m\u001B[43mconstant_value\u001B[49m\u001B[43m,\u001B[49m\n\u001B[32m   1276\u001B[39m \u001B[43m    \u001B[49m\u001B[43mdtype\u001B[49m\u001B[43m=\u001B[49m\u001B[43mnp\u001B[49m\u001B[43m.\u001B[49m\u001B[43marray\u001B[49m\u001B[43m(\u001B[49m\u001B[38;5;28;43mself\u001B[39;49m\u001B[43m.\u001B[49m\u001B[43mconstant_value\u001B[49m\u001B[43m)\u001B[49m\u001B[43m.\u001B[49m\u001B[43mdtype\u001B[49m\u001B[43m,\u001B[49m\n\u001B[32m   1277\u001B[39m \u001B[43m\u001B[49m\u001B[43m)\u001B[49m\n\u001B[32m   1278\u001B[39m \u001B[38;5;28;01mif\u001B[39;00m eval_gradient:\n\u001B[32m   1279\u001B[39m     \u001B[38;5;28;01mif\u001B[39;00m \u001B[38;5;129;01mnot\u001B[39;00m \u001B[38;5;28mself\u001B[39m.hyperparameter_constant_value.fixed:\n",
      "\u001B[36mFile \u001B[39m\u001B[32m/opt/homebrew/Caskroom/miniconda/base/envs/biostat-fitness/lib/python3.13/site-packages/numpy/_core/numeric.py:386\u001B[39m, in \u001B[36mfull\u001B[39m\u001B[34m(shape, fill_value, dtype, order, device, like)\u001B[39m\n\u001B[32m    384\u001B[39m     fill_value = asarray(fill_value)\n\u001B[32m    385\u001B[39m     dtype = fill_value.dtype\n\u001B[32m--> \u001B[39m\u001B[32m386\u001B[39m a = \u001B[43mempty\u001B[49m\u001B[43m(\u001B[49m\u001B[43mshape\u001B[49m\u001B[43m,\u001B[49m\u001B[43m \u001B[49m\u001B[43mdtype\u001B[49m\u001B[43m,\u001B[49m\u001B[43m \u001B[49m\u001B[43morder\u001B[49m\u001B[43m,\u001B[49m\u001B[43m \u001B[49m\u001B[43mdevice\u001B[49m\u001B[43m=\u001B[49m\u001B[43mdevice\u001B[49m\u001B[43m)\u001B[49m\n\u001B[32m    387\u001B[39m multiarray.copyto(a, fill_value, casting=\u001B[33m'\u001B[39m\u001B[33munsafe\u001B[39m\u001B[33m'\u001B[39m)\n\u001B[32m    388\u001B[39m \u001B[38;5;28;01mreturn\u001B[39;00m a\n",
      "\u001B[31mMemoryError\u001B[39m: Unable to allocate 634. TiB for an array with shape (9332178, 9332178) and data type float64"
     ]
    }
   ],
   "execution_count": 40
  },
  {
   "metadata": {},
   "cell_type": "code",
   "outputs": [],
   "execution_count": null,
   "source": [
    "probs_train = gpc.predict_proba(X_train)\n",
    "probs_test = gpc.predict_proba(X_test)\n"
   ],
   "id": "c924c151df955893"
  },
  {
   "metadata": {},
   "cell_type": "code",
   "outputs": [],
   "execution_count": null,
   "source": [
    "print(\"\\n--- Training predictions (first 5) ---\")\n",
    "for context, p in zip(X_raw_train[:5], probs_train[:5]):\n",
    "    dist = {cat: round(prob, 3) for cat, prob in zip(alphabet, p)}\n",
    "    print(f\"Context={context} → {dist}\")\n",
    "\n",
    "print(\"\\n--- Test predictions (first 5) ---\")\n",
    "for context, p in zip(X_raw_test[:5], probs_test[:5]):\n",
    "    dist = {cat: round(prob, 3) for cat, prob in zip(alphabet, p)}\n",
    "    print(f\"Context={context} → {dist}\")"
   ],
   "id": "5ee8038e24c76be5"
  },
  {
   "metadata": {},
   "cell_type": "code",
   "outputs": [],
   "execution_count": null,
   "source": "",
   "id": "fab8ff623b7c222e"
  }
 ],
 "metadata": {
  "kernelspec": {
   "name": "python3",
   "language": "python",
   "display_name": "Python 3 (ipykernel)"
  }
 },
 "nbformat": 5,
 "nbformat_minor": 9
}
